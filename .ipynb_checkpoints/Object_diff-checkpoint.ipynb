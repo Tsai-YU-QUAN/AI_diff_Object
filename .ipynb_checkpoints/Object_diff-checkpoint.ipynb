{
 "cells": [
  {
   "cell_type": "code",
   "execution_count": 3,
   "metadata": {},
   "outputs": [],
   "source": [
    "# from PIL import ImageChops\n",
    "# def diff(im1_file, \n",
    "#          im2_file, \n",
    "#          delete_diff_file=False, \n",
    "#          diff_img_file=diff_img_file):\n",
    "#     im1 = Image.open(im1_file)\n",
    "#     im2 = Image.open(im2_file)\n",
    "#     diff_img = ImageChops.difference(im1,im2)\n",
    "#     diff_img.convert('RGB').save(diff_img_file)\n",
    "#     stat = ImageStat.Stat(diff_img)\n",
    "#     # can be [r,g,b] or [r,g,b,a]\n",
    "#     sum_channel_values = sum(stat.mean)\n",
    "#     max_all_channels = len(stat.mean) * 100\n",
    "#     diff_ratio = sum_channel_values/max_all_channels\n",
    "#     if delete_diff_file:\n",
    "#         remove(diff_img_file)\n",
    "#     return diff_ratio \n",
    "\n",
    "import sys\n",
    " \n",
    "def main():\n",
    "    #intValue = int(sys.argv[1])#如果要將變數搞成數字的話可以使用 int()來轉\n",
    "    print sys.argv[1]\n",
    "    print sys.argv[2]\n",
    "    print sys.argv[3]\n",
    "    print \"===============\"\n",
    "    print len(sys.argv)#參數一共有幾個\n",
    "    print \"===============\"\n",
    "    for x in sys.argv:\n",
    "        print x\n",
    " \n",
    "if __name__ == \"__main__\":\n",
    "    main()"
   ]
  },
  {
   "cell_type": "code",
   "execution_count": null,
   "metadata": {},
   "outputs": [],
   "source": [
    "#diff()"
   ]
  }
 ],
 "metadata": {
  "kernelspec": {
   "display_name": "Python 3",
   "language": "python",
   "name": "python3"
  },
  "language_info": {
   "codemirror_mode": {
    "name": "ipython",
    "version": 3
   },
   "file_extension": ".py",
   "mimetype": "text/x-python",
   "name": "python",
   "nbconvert_exporter": "python",
   "pygments_lexer": "ipython3",
   "version": "3.7.2"
  }
 },
 "nbformat": 4,
 "nbformat_minor": 2
}
